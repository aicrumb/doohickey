{
  "nbformat": 4,
  "nbformat_minor": 0,
  "metadata": {
    "colab": {
      "provenance": [],
      "collapsed_sections": []
    },
    "kernelspec": {
      "name": "python3",
      "display_name": "Python 3"
    },
    "language_info": {
      "name": "python"
    },
    "accelerator": "GPU",
    "gpuClass": "standard",
    "widgets": {
      "application/vnd.jupyter.widget-state+json": {
        "86748c2ee7c2483ab4de2178f7cf62bd": {
          "model_module": "@jupyter-widgets/controls",
          "model_name": "HBoxModel",
          "model_module_version": "1.5.0",
          "state": {
            "_dom_classes": [],
            "_model_module": "@jupyter-widgets/controls",
            "_model_module_version": "1.5.0",
            "_model_name": "HBoxModel",
            "_view_count": null,
            "_view_module": "@jupyter-widgets/controls",
            "_view_module_version": "1.5.0",
            "_view_name": "HBoxView",
            "box_style": "",
            "children": [
              "IPY_MODEL_279e6db4e5ae4070ab9f2dcf6eac02a0",
              "IPY_MODEL_2614a675502947a996cc7269d203be48",
              "IPY_MODEL_6846e91164b9459e80673f36a41914f2"
            ],
            "layout": "IPY_MODEL_b262330e68dd47adabbfd0b0c4716d8b"
          }
        },
        "279e6db4e5ae4070ab9f2dcf6eac02a0": {
          "model_module": "@jupyter-widgets/controls",
          "model_name": "HTMLModel",
          "model_module_version": "1.5.0",
          "state": {
            "_dom_classes": [],
            "_model_module": "@jupyter-widgets/controls",
            "_model_module_version": "1.5.0",
            "_model_name": "HTMLModel",
            "_view_count": null,
            "_view_module": "@jupyter-widgets/controls",
            "_view_module_version": "1.5.0",
            "_view_name": "HTMLView",
            "description": "",
            "description_tooltip": null,
            "layout": "IPY_MODEL_33c44fb4fbcc4d3aa5005049fbd126a4",
            "placeholder": "​",
            "style": "IPY_MODEL_e0f392f252e8416db91aaad83f9148fd",
            "value": "Fetching 15 files: 100%"
          }
        },
        "2614a675502947a996cc7269d203be48": {
          "model_module": "@jupyter-widgets/controls",
          "model_name": "FloatProgressModel",
          "model_module_version": "1.5.0",
          "state": {
            "_dom_classes": [],
            "_model_module": "@jupyter-widgets/controls",
            "_model_module_version": "1.5.0",
            "_model_name": "FloatProgressModel",
            "_view_count": null,
            "_view_module": "@jupyter-widgets/controls",
            "_view_module_version": "1.5.0",
            "_view_name": "ProgressView",
            "bar_style": "success",
            "description": "",
            "description_tooltip": null,
            "layout": "IPY_MODEL_37b7f63baa8b47088a426694b57d3082",
            "max": 15,
            "min": 0,
            "orientation": "horizontal",
            "style": "IPY_MODEL_f15b00420b494ab2916d0e357744d5c1",
            "value": 15
          }
        },
        "6846e91164b9459e80673f36a41914f2": {
          "model_module": "@jupyter-widgets/controls",
          "model_name": "HTMLModel",
          "model_module_version": "1.5.0",
          "state": {
            "_dom_classes": [],
            "_model_module": "@jupyter-widgets/controls",
            "_model_module_version": "1.5.0",
            "_model_name": "HTMLModel",
            "_view_count": null,
            "_view_module": "@jupyter-widgets/controls",
            "_view_module_version": "1.5.0",
            "_view_name": "HTMLView",
            "description": "",
            "description_tooltip": null,
            "layout": "IPY_MODEL_1761258a65764848a0056f726db933b2",
            "placeholder": "​",
            "style": "IPY_MODEL_b39dfeee71204a658647ae6b1da6ef03",
            "value": " 15/15 [00:12&lt;00:00,  1.04it/s]"
          }
        },
        "b262330e68dd47adabbfd0b0c4716d8b": {
          "model_module": "@jupyter-widgets/base",
          "model_name": "LayoutModel",
          "model_module_version": "1.2.0",
          "state": {
            "_model_module": "@jupyter-widgets/base",
            "_model_module_version": "1.2.0",
            "_model_name": "LayoutModel",
            "_view_count": null,
            "_view_module": "@jupyter-widgets/base",
            "_view_module_version": "1.2.0",
            "_view_name": "LayoutView",
            "align_content": null,
            "align_items": null,
            "align_self": null,
            "border": null,
            "bottom": null,
            "display": null,
            "flex": null,
            "flex_flow": null,
            "grid_area": null,
            "grid_auto_columns": null,
            "grid_auto_flow": null,
            "grid_auto_rows": null,
            "grid_column": null,
            "grid_gap": null,
            "grid_row": null,
            "grid_template_areas": null,
            "grid_template_columns": null,
            "grid_template_rows": null,
            "height": null,
            "justify_content": null,
            "justify_items": null,
            "left": null,
            "margin": null,
            "max_height": null,
            "max_width": null,
            "min_height": null,
            "min_width": null,
            "object_fit": null,
            "object_position": null,
            "order": null,
            "overflow": null,
            "overflow_x": null,
            "overflow_y": null,
            "padding": null,
            "right": null,
            "top": null,
            "visibility": null,
            "width": null
          }
        },
        "33c44fb4fbcc4d3aa5005049fbd126a4": {
          "model_module": "@jupyter-widgets/base",
          "model_name": "LayoutModel",
          "model_module_version": "1.2.0",
          "state": {
            "_model_module": "@jupyter-widgets/base",
            "_model_module_version": "1.2.0",
            "_model_name": "LayoutModel",
            "_view_count": null,
            "_view_module": "@jupyter-widgets/base",
            "_view_module_version": "1.2.0",
            "_view_name": "LayoutView",
            "align_content": null,
            "align_items": null,
            "align_self": null,
            "border": null,
            "bottom": null,
            "display": null,
            "flex": null,
            "flex_flow": null,
            "grid_area": null,
            "grid_auto_columns": null,
            "grid_auto_flow": null,
            "grid_auto_rows": null,
            "grid_column": null,
            "grid_gap": null,
            "grid_row": null,
            "grid_template_areas": null,
            "grid_template_columns": null,
            "grid_template_rows": null,
            "height": null,
            "justify_content": null,
            "justify_items": null,
            "left": null,
            "margin": null,
            "max_height": null,
            "max_width": null,
            "min_height": null,
            "min_width": null,
            "object_fit": null,
            "object_position": null,
            "order": null,
            "overflow": null,
            "overflow_x": null,
            "overflow_y": null,
            "padding": null,
            "right": null,
            "top": null,
            "visibility": null,
            "width": null
          }
        },
        "e0f392f252e8416db91aaad83f9148fd": {
          "model_module": "@jupyter-widgets/controls",
          "model_name": "DescriptionStyleModel",
          "model_module_version": "1.5.0",
          "state": {
            "_model_module": "@jupyter-widgets/controls",
            "_model_module_version": "1.5.0",
            "_model_name": "DescriptionStyleModel",
            "_view_count": null,
            "_view_module": "@jupyter-widgets/base",
            "_view_module_version": "1.2.0",
            "_view_name": "StyleView",
            "description_width": ""
          }
        },
        "37b7f63baa8b47088a426694b57d3082": {
          "model_module": "@jupyter-widgets/base",
          "model_name": "LayoutModel",
          "model_module_version": "1.2.0",
          "state": {
            "_model_module": "@jupyter-widgets/base",
            "_model_module_version": "1.2.0",
            "_model_name": "LayoutModel",
            "_view_count": null,
            "_view_module": "@jupyter-widgets/base",
            "_view_module_version": "1.2.0",
            "_view_name": "LayoutView",
            "align_content": null,
            "align_items": null,
            "align_self": null,
            "border": null,
            "bottom": null,
            "display": null,
            "flex": null,
            "flex_flow": null,
            "grid_area": null,
            "grid_auto_columns": null,
            "grid_auto_flow": null,
            "grid_auto_rows": null,
            "grid_column": null,
            "grid_gap": null,
            "grid_row": null,
            "grid_template_areas": null,
            "grid_template_columns": null,
            "grid_template_rows": null,
            "height": null,
            "justify_content": null,
            "justify_items": null,
            "left": null,
            "margin": null,
            "max_height": null,
            "max_width": null,
            "min_height": null,
            "min_width": null,
            "object_fit": null,
            "object_position": null,
            "order": null,
            "overflow": null,
            "overflow_x": null,
            "overflow_y": null,
            "padding": null,
            "right": null,
            "top": null,
            "visibility": null,
            "width": null
          }
        },
        "f15b00420b494ab2916d0e357744d5c1": {
          "model_module": "@jupyter-widgets/controls",
          "model_name": "ProgressStyleModel",
          "model_module_version": "1.5.0",
          "state": {
            "_model_module": "@jupyter-widgets/controls",
            "_model_module_version": "1.5.0",
            "_model_name": "ProgressStyleModel",
            "_view_count": null,
            "_view_module": "@jupyter-widgets/base",
            "_view_module_version": "1.2.0",
            "_view_name": "StyleView",
            "bar_color": null,
            "description_width": ""
          }
        },
        "1761258a65764848a0056f726db933b2": {
          "model_module": "@jupyter-widgets/base",
          "model_name": "LayoutModel",
          "model_module_version": "1.2.0",
          "state": {
            "_model_module": "@jupyter-widgets/base",
            "_model_module_version": "1.2.0",
            "_model_name": "LayoutModel",
            "_view_count": null,
            "_view_module": "@jupyter-widgets/base",
            "_view_module_version": "1.2.0",
            "_view_name": "LayoutView",
            "align_content": null,
            "align_items": null,
            "align_self": null,
            "border": null,
            "bottom": null,
            "display": null,
            "flex": null,
            "flex_flow": null,
            "grid_area": null,
            "grid_auto_columns": null,
            "grid_auto_flow": null,
            "grid_auto_rows": null,
            "grid_column": null,
            "grid_gap": null,
            "grid_row": null,
            "grid_template_areas": null,
            "grid_template_columns": null,
            "grid_template_rows": null,
            "height": null,
            "justify_content": null,
            "justify_items": null,
            "left": null,
            "margin": null,
            "max_height": null,
            "max_width": null,
            "min_height": null,
            "min_width": null,
            "object_fit": null,
            "object_position": null,
            "order": null,
            "overflow": null,
            "overflow_x": null,
            "overflow_y": null,
            "padding": null,
            "right": null,
            "top": null,
            "visibility": null,
            "width": null
          }
        },
        "b39dfeee71204a658647ae6b1da6ef03": {
          "model_module": "@jupyter-widgets/controls",
          "model_name": "DescriptionStyleModel",
          "model_module_version": "1.5.0",
          "state": {
            "_model_module": "@jupyter-widgets/controls",
            "_model_module_version": "1.5.0",
            "_model_name": "DescriptionStyleModel",
            "_view_count": null,
            "_view_module": "@jupyter-widgets/base",
            "_view_module_version": "1.2.0",
            "_view_name": "StyleView",
            "description_width": ""
          }
        },
        "fe5b03c6559f43fba2ffe8905d7df669": {
          "model_module": "@jupyter-widgets/controls",
          "model_name": "HBoxModel",
          "model_module_version": "1.5.0",
          "state": {
            "_dom_classes": [],
            "_model_module": "@jupyter-widgets/controls",
            "_model_module_version": "1.5.0",
            "_model_name": "HBoxModel",
            "_view_count": null,
            "_view_module": "@jupyter-widgets/controls",
            "_view_module_version": "1.5.0",
            "_view_name": "HBoxView",
            "box_style": "",
            "children": [
              "IPY_MODEL_acc8291adc454578b813b0a6079c12f4",
              "IPY_MODEL_72c97a4f9a7f464482e4ba9844e6edab",
              "IPY_MODEL_ff43be0e85b04584a5c8134bcc4169e3"
            ],
            "layout": "IPY_MODEL_23f43c397966455b84fd0837e90a1556"
          }
        },
        "acc8291adc454578b813b0a6079c12f4": {
          "model_module": "@jupyter-widgets/controls",
          "model_name": "HTMLModel",
          "model_module_version": "1.5.0",
          "state": {
            "_dom_classes": [],
            "_model_module": "@jupyter-widgets/controls",
            "_model_module_version": "1.5.0",
            "_model_name": "HTMLModel",
            "_view_count": null,
            "_view_module": "@jupyter-widgets/controls",
            "_view_module_version": "1.5.0",
            "_view_name": "HTMLView",
            "description": "",
            "description_tooltip": null,
            "layout": "IPY_MODEL_b318ee71d6b44c79bb91a7471018d2a2",
            "placeholder": "​",
            "style": "IPY_MODEL_6861593e709845818883f44e1ed227af",
            "value": "Steps: 100%"
          }
        },
        "72c97a4f9a7f464482e4ba9844e6edab": {
          "model_module": "@jupyter-widgets/controls",
          "model_name": "FloatProgressModel",
          "model_module_version": "1.5.0",
          "state": {
            "_dom_classes": [],
            "_model_module": "@jupyter-widgets/controls",
            "_model_module_version": "1.5.0",
            "_model_name": "FloatProgressModel",
            "_view_count": null,
            "_view_module": "@jupyter-widgets/controls",
            "_view_module_version": "1.5.0",
            "_view_name": "ProgressView",
            "bar_style": "success",
            "description": "",
            "description_tooltip": null,
            "layout": "IPY_MODEL_a67d1aa30e2d445a926f3806b0e65657",
            "max": 130,
            "min": 0,
            "orientation": "horizontal",
            "style": "IPY_MODEL_ce5937dddade4c349a37f71dcc2a15c5",
            "value": 130
          }
        },
        "ff43be0e85b04584a5c8134bcc4169e3": {
          "model_module": "@jupyter-widgets/controls",
          "model_name": "HTMLModel",
          "model_module_version": "1.5.0",
          "state": {
            "_dom_classes": [],
            "_model_module": "@jupyter-widgets/controls",
            "_model_module_version": "1.5.0",
            "_model_name": "HTMLModel",
            "_view_count": null,
            "_view_module": "@jupyter-widgets/controls",
            "_view_module_version": "1.5.0",
            "_view_name": "HTMLView",
            "description": "",
            "description_tooltip": null,
            "layout": "IPY_MODEL_6f3af09442a34575a59276649158f61c",
            "placeholder": "​",
            "style": "IPY_MODEL_03d80fa1fb094b8db37d202fe1ce7052",
            "value": " 130/130 [00:05&lt;00:00, 25.38it/s]"
          }
        },
        "23f43c397966455b84fd0837e90a1556": {
          "model_module": "@jupyter-widgets/base",
          "model_name": "LayoutModel",
          "model_module_version": "1.2.0",
          "state": {
            "_model_module": "@jupyter-widgets/base",
            "_model_module_version": "1.2.0",
            "_model_name": "LayoutModel",
            "_view_count": null,
            "_view_module": "@jupyter-widgets/base",
            "_view_module_version": "1.2.0",
            "_view_name": "LayoutView",
            "align_content": null,
            "align_items": null,
            "align_self": null,
            "border": null,
            "bottom": null,
            "display": null,
            "flex": null,
            "flex_flow": null,
            "grid_area": null,
            "grid_auto_columns": null,
            "grid_auto_flow": null,
            "grid_auto_rows": null,
            "grid_column": null,
            "grid_gap": null,
            "grid_row": null,
            "grid_template_areas": null,
            "grid_template_columns": null,
            "grid_template_rows": null,
            "height": null,
            "justify_content": null,
            "justify_items": null,
            "left": null,
            "margin": null,
            "max_height": null,
            "max_width": null,
            "min_height": null,
            "min_width": null,
            "object_fit": null,
            "object_position": null,
            "order": null,
            "overflow": null,
            "overflow_x": null,
            "overflow_y": null,
            "padding": null,
            "right": null,
            "top": null,
            "visibility": null,
            "width": null
          }
        },
        "b318ee71d6b44c79bb91a7471018d2a2": {
          "model_module": "@jupyter-widgets/base",
          "model_name": "LayoutModel",
          "model_module_version": "1.2.0",
          "state": {
            "_model_module": "@jupyter-widgets/base",
            "_model_module_version": "1.2.0",
            "_model_name": "LayoutModel",
            "_view_count": null,
            "_view_module": "@jupyter-widgets/base",
            "_view_module_version": "1.2.0",
            "_view_name": "LayoutView",
            "align_content": null,
            "align_items": null,
            "align_self": null,
            "border": null,
            "bottom": null,
            "display": null,
            "flex": null,
            "flex_flow": null,
            "grid_area": null,
            "grid_auto_columns": null,
            "grid_auto_flow": null,
            "grid_auto_rows": null,
            "grid_column": null,
            "grid_gap": null,
            "grid_row": null,
            "grid_template_areas": null,
            "grid_template_columns": null,
            "grid_template_rows": null,
            "height": null,
            "justify_content": null,
            "justify_items": null,
            "left": null,
            "margin": null,
            "max_height": null,
            "max_width": null,
            "min_height": null,
            "min_width": null,
            "object_fit": null,
            "object_position": null,
            "order": null,
            "overflow": null,
            "overflow_x": null,
            "overflow_y": null,
            "padding": null,
            "right": null,
            "top": null,
            "visibility": null,
            "width": null
          }
        },
        "6861593e709845818883f44e1ed227af": {
          "model_module": "@jupyter-widgets/controls",
          "model_name": "DescriptionStyleModel",
          "model_module_version": "1.5.0",
          "state": {
            "_model_module": "@jupyter-widgets/controls",
            "_model_module_version": "1.5.0",
            "_model_name": "DescriptionStyleModel",
            "_view_count": null,
            "_view_module": "@jupyter-widgets/base",
            "_view_module_version": "1.2.0",
            "_view_name": "StyleView",
            "description_width": ""
          }
        },
        "a67d1aa30e2d445a926f3806b0e65657": {
          "model_module": "@jupyter-widgets/base",
          "model_name": "LayoutModel",
          "model_module_version": "1.2.0",
          "state": {
            "_model_module": "@jupyter-widgets/base",
            "_model_module_version": "1.2.0",
            "_model_name": "LayoutModel",
            "_view_count": null,
            "_view_module": "@jupyter-widgets/base",
            "_view_module_version": "1.2.0",
            "_view_name": "LayoutView",
            "align_content": null,
            "align_items": null,
            "align_self": null,
            "border": null,
            "bottom": null,
            "display": null,
            "flex": null,
            "flex_flow": null,
            "grid_area": null,
            "grid_auto_columns": null,
            "grid_auto_flow": null,
            "grid_auto_rows": null,
            "grid_column": null,
            "grid_gap": null,
            "grid_row": null,
            "grid_template_areas": null,
            "grid_template_columns": null,
            "grid_template_rows": null,
            "height": null,
            "justify_content": null,
            "justify_items": null,
            "left": null,
            "margin": null,
            "max_height": null,
            "max_width": null,
            "min_height": null,
            "min_width": null,
            "object_fit": null,
            "object_position": null,
            "order": null,
            "overflow": null,
            "overflow_x": null,
            "overflow_y": null,
            "padding": null,
            "right": null,
            "top": null,
            "visibility": null,
            "width": null
          }
        },
        "ce5937dddade4c349a37f71dcc2a15c5": {
          "model_module": "@jupyter-widgets/controls",
          "model_name": "ProgressStyleModel",
          "model_module_version": "1.5.0",
          "state": {
            "_model_module": "@jupyter-widgets/controls",
            "_model_module_version": "1.5.0",
            "_model_name": "ProgressStyleModel",
            "_view_count": null,
            "_view_module": "@jupyter-widgets/base",
            "_view_module_version": "1.2.0",
            "_view_name": "StyleView",
            "bar_color": null,
            "description_width": ""
          }
        },
        "6f3af09442a34575a59276649158f61c": {
          "model_module": "@jupyter-widgets/base",
          "model_name": "LayoutModel",
          "model_module_version": "1.2.0",
          "state": {
            "_model_module": "@jupyter-widgets/base",
            "_model_module_version": "1.2.0",
            "_model_name": "LayoutModel",
            "_view_count": null,
            "_view_module": "@jupyter-widgets/base",
            "_view_module_version": "1.2.0",
            "_view_name": "LayoutView",
            "align_content": null,
            "align_items": null,
            "align_self": null,
            "border": null,
            "bottom": null,
            "display": null,
            "flex": null,
            "flex_flow": null,
            "grid_area": null,
            "grid_auto_columns": null,
            "grid_auto_flow": null,
            "grid_auto_rows": null,
            "grid_column": null,
            "grid_gap": null,
            "grid_row": null,
            "grid_template_areas": null,
            "grid_template_columns": null,
            "grid_template_rows": null,
            "height": null,
            "justify_content": null,
            "justify_items": null,
            "left": null,
            "margin": null,
            "max_height": null,
            "max_width": null,
            "min_height": null,
            "min_width": null,
            "object_fit": null,
            "object_position": null,
            "order": null,
            "overflow": null,
            "overflow_x": null,
            "overflow_y": null,
            "padding": null,
            "right": null,
            "top": null,
            "visibility": null,
            "width": null
          }
        },
        "03d80fa1fb094b8db37d202fe1ce7052": {
          "model_module": "@jupyter-widgets/controls",
          "model_name": "DescriptionStyleModel",
          "model_module_version": "1.5.0",
          "state": {
            "_model_module": "@jupyter-widgets/controls",
            "_model_module_version": "1.5.0",
            "_model_name": "DescriptionStyleModel",
            "_view_count": null,
            "_view_module": "@jupyter-widgets/base",
            "_view_module_version": "1.2.0",
            "_view_name": "StyleView",
            "description_width": ""
          }
        }
      }
    }
  },
  "cells": [
    {
      "cell_type": "markdown",
      "source": [
        "just run all the cells and replace target_url in it's cell with a url that points towards your image, and replace dummy with a 1-token concept related to the image (e.g. girl, boy, plant, *)"
      ],
      "metadata": {
        "id": "MjZ55d-pHV4X"
      }
    },
    {
      "cell_type": "code",
      "execution_count": 1,
      "metadata": {
        "id": "ch789s0G5kh4"
      },
      "outputs": [],
      "source": [
        "!pip install git+https://github.com/openai/CLIP -q\n",
        "!apt-get install git-lfs\n",
        "!pip install transformers -q\n",
        "from google.colab import output\n",
        "output.clear()"
      ]
    },
    {
      "cell_type": "code",
      "source": [
        "import clip\n",
        "import torch\n",
        "from torch import optim, nn\n",
        "import torch.nn.functional as F\n",
        "import torchvision.transforms.functional as tf\n",
        "from tqdm.auto import trange, tqdm\n",
        "from PIL import Image\n",
        "import requests\n",
        "from io import BytesIO\n",
        "import random"
      ],
      "metadata": {
        "id": "fuihwdoA5psq"
      },
      "execution_count": 2,
      "outputs": []
    },
    {
      "cell_type": "code",
      "source": [
        "model_name = 'ViT-L/14'\n",
        "device = torch.device('cuda' if torch.cuda.is_available() else 'cpu')\n",
        "model = clip.load(model_name, jit=False)[0].to(device)\n",
        "\n",
        "def forward(self, dummy='*', prefixes=[\"\"]):\n",
        "    tokens = clip.tokenize(random.choice(prefixes).format(dummy)).to(device)\n",
        "    x = self.encode_text(tokens)\n",
        "    return x"
      ],
      "metadata": {
        "id": "253tnMMG5zE-"
      },
      "execution_count": 3,
      "outputs": []
    },
    {
      "cell_type": "code",
      "source": [
        "for i in model.token_embedding.parameters():\n",
        "    i.requires_grad = True"
      ],
      "metadata": {
        "id": "51c3QKvG-h8E"
      },
      "execution_count": 4,
      "outputs": []
    },
    {
      "cell_type": "code",
      "source": [
        "lr = 0.013\n",
        "model.token_embedding.requires_grad = True\n",
        "opt = optim.Adam(model.token_embedding.parameters(), lr)"
      ],
      "metadata": {
        "id": "ZNn9QMRA6YtN"
      },
      "execution_count": 5,
      "outputs": []
    },
    {
      "cell_type": "code",
      "source": [
        "target_url = \"https://upload.wikimedia.org/wikipedia/en/9/9b/Tame_Impala_-_Currents.png\" #@param {type:\"string\"}\n",
        "response = requests.get(target_url)\n",
        "pil_image = Image.open(BytesIO(response.content)).convert(\"RGB\")\n",
        "pil_image_resized = tf.resize(pil_image, model.visual.input_resolution)\n",
        "pil_image_cropped = tf.center_crop(pil_image_resized, [model.visual.input_resolution]*2)\n",
        "image_tensor = tf.to_tensor(pil_image_cropped)\n",
        "print(\"Image to optimize towards:\")\n",
        "pil_image_cropped"
      ],
      "metadata": {
        "colab": {
          "base_uri": "https://localhost:8080/",
          "height": 258
        },
        "id": "nP6sybQR7ZEh",
        "outputId": "98f7fb44-0845-4071-c505-ccdd294a9617",
        "cellView": "form"
      },
      "execution_count": 6,
      "outputs": [
        {
          "output_type": "stream",
          "name": "stdout",
          "text": [
            "Image to optimize towards:\n"
          ]
        },
        {
          "output_type": "execute_result",
          "data": {
            "text/plain": [
              "<PIL.Image.Image image mode=RGB size=224x224 at 0x7F0C0A5387D0>"
            ],
            "image/png": "[encoded data removed]"
          },
          "metadata": {},
          "execution_count": 6
        }
      ]
    },
    {
      "cell_type": "code",
      "source": [
        "#@markdown get image embedding,\n",
        "\n",
        "with torch.no_grad():\n",
        "    images = image_tensor.to(device).unsqueeze(0)\n",
        "    image_encoding = model.encode_image(images)\n",
        "    # future proofing for multiple images \n",
        "    image_encoding = image_encoding.mean(0)\n"
      ],
      "metadata": {
        "id": "Nlx0-3dS7_p1",
        "cellView": "form"
      },
      "execution_count": 7,
      "outputs": []
    },
    {
      "cell_type": "code",
      "source": [
        "#@markdown automatically find best token (messy, old code)\n",
        "from huggingface_hub import snapshot_download\n",
        "import os\n",
        "input_folder = snapshot_download(repo_id=\"crumb/ViT-L-14-Token-Embeddings\")\n",
        "table = []\n",
        "input_folder = input_folder + \"/embeddings\"\n",
        "filenames = os.listdir(input_folder)\n",
        "for filename in filenames:\n",
        "    fixed_name = input_folder + \"/\" + filename.rjust(9, \"0\")\n",
        "    filename = input_folder + \"/\" + filename\n",
        "    !mv $filename $fixed_name\n",
        "filenames = sorted(os.listdir(input_folder))\n",
        "for filename in filenames:\n",
        "    x = torch.load(input_folder + \"/\" + filename)\n",
        "    table.append(x)\n",
        "table = torch.cat(table, 0)\n",
        "output.clear()\n",
        "def sph_dist(x, y):\n",
        "    x = F.normalize(x, dim=-1)\n",
        "    y = F.normalize(y, dim=-1)\n",
        "    l = (x - y).norm(dim=-1).div(2).arcsin().pow(2).mul(2)#.mean()\n",
        "    return l \n",
        "tokenizer = clip.simple_tokenizer.SimpleTokenizer()\n",
        "x = [sph_dist(image_encoding, table).argmin().item()]\n",
        "tok = tokenizer.decode(x)[:-1]\n",
        "dummy_token = x[0]\n",
        "dummy = tok\n",
        "\n",
        "print(\"Best token:\", dummy)"
      ],
      "metadata": {
        "colab": {
          "base_uri": "https://localhost:8080/",
          "height": 34,
          "referenced_widgets": [
            "86748c2ee7c2483ab4de2178f7cf62bd",
            "279e6db4e5ae4070ab9f2dcf6eac02a0",
            "2614a675502947a996cc7269d203be48",
            "6846e91164b9459e80673f36a41914f2",
            "b262330e68dd47adabbfd0b0c4716d8b",
            "33c44fb4fbcc4d3aa5005049fbd126a4",
            "e0f392f252e8416db91aaad83f9148fd",
            "37b7f63baa8b47088a426694b57d3082",
            "f15b00420b494ab2916d0e357744d5c1",
            "1761258a65764848a0056f726db933b2",
            "b39dfeee71204a658647ae6b1da6ef03"
          ]
        },
        "cellView": "form",
        "id": "Byb-OVmA-jwg",
        "outputId": "af2ad7e8-4da2-49a2-afcb-337d0385de40"
      },
      "execution_count": 8,
      "outputs": [
        {
          "output_type": "stream",
          "name": "stdout",
          "text": [
            "Best token: currents\n"
          ]
        }
      ]
    },
    {
      "cell_type": "code",
      "source": [
        "#@markdown prompt templates (from sd text inversion hf)\n",
        "type_of_concept = \"object\" #@param [\"object\", \"style\"]\n",
        "if type_of_concept==\"object\":\n",
        "    prefixes = [\n",
        "        \"a photo of {}\",\n",
        "        \"a rendering of {}\",\n",
        "        \"a cropped photo of {}\",\n",
        "        \"the photo of {}\",\n",
        "        \"a photo of a clean {}\",\n",
        "        \"a photo of a dirty {}\",\n",
        "        \"a dark photo of {}\",\n",
        "        \"a photo of my {}\",\n",
        "        \"a photo of the cool {}\",\n",
        "        \"a close-up photo of a {}\",\n",
        "        \"a bright photo of the {}\",\n",
        "        \"a cropped photo of a {}\",\n",
        "        \"a photo of {}\",\n",
        "        \"a good photo of {}\",\n",
        "        \"a close-up photo of {}\",\n",
        "        \"a rendition of {}\",\n",
        "        \"a photo of clean {}\",\n",
        "        \"a rendition of {}\",\n",
        "        \"a photo of nice {}\",\n",
        "        \"a good photo of {}\",\n",
        "        \"a photo of nice {}\",\n",
        "        \"a photo of small {}\",\n",
        "        \"a photo of weird {}\",\n",
        "        \"a photo of large {}\",\n",
        "        \"a photo of cool {}\",\n",
        "        \"a photo of small {}\"\n",
        "    ]\n",
        "elif type_of_concept==\"style\":\n",
        "    prefixes = [\n",
        "        \"a painting in the style of {}\",\n",
        "        \"a rendering in the style of {}\",\n",
        "        \"a cropped painting in the style of {}\",\n",
        "        \"the painting in the style of {}\",\n",
        "        \"a clean painting in the style of {}\",\n",
        "        \"a dirty painting in the style of {}\",\n",
        "        \"a dark painting in the style of {}\",\n",
        "        \"a picture in the style of {}\",\n",
        "        \"a cool painting in the style of {}\",\n",
        "        \"a close-up painting in the style of {}\",\n",
        "        \"a bright painting in the style of {}\",\n",
        "        \"a cropped painting in the style of {}\",\n",
        "        \"a good painting in the style of {}\",\n",
        "        \"a close-up painting in the style of {}\",\n",
        "        \"a rendition in the style of {}\",\n",
        "        \"a nice painting in the style of {}\",\n",
        "        \"a small painting in the style of {}\",\n",
        "        \"a weird painting in the style of {}\",\n",
        "        \"a large painting in the style of {}\",\n",
        "    ]"
      ],
      "metadata": {
        "cellView": "form",
        "id": "qP7wFt-uEdk7"
      },
      "execution_count": 9,
      "outputs": []
    },
    {
      "cell_type": "code",
      "source": [
        "# i think these settings are a sweet spot?\n",
        "# if you can find a set that trains longer + gets better results ping me\n",
        "# accumulate is so low because without the randomness it's unstable and ... over..fits???\n",
        "accumulate = 2\n",
        "steps = 65\n",
        "steps = steps * accumulate\n",
        "loop = trange(steps, desc=\"Steps\")\n",
        "\n",
        "losses = []\n",
        "def track_loss(loss):\n",
        "    global losses \n",
        "    losses.append(loss.item())\n",
        "\n",
        "for step in loop:\n",
        "    # ---\n",
        "    encoding = forward(model, dummy, prefixes)\n",
        "    loss = sph_dist(encoding,image_encoding).mean() / accumulate\n",
        "    loss.backward()\n",
        "    # ---\n",
        "    if step%accumulate==0:\n",
        "        grads = model.token_embedding.weight.data\n",
        "        index_grads_to_zero = (torch.arange(len(model.token_embedding.weight.data)) != dummy_token)\n",
        "        grads.data[index_grads_to_zero, :] = grads.data[index_grads_to_zero, :].fill_(0)\n",
        "        opt.step()\n",
        "        opt.zero_grad()\n",
        "        track_loss(loss)"
      ],
      "metadata": {
        "colab": {
          "base_uri": "https://localhost:8080/",
          "height": 49,
          "referenced_widgets": [
            "fe5b03c6559f43fba2ffe8905d7df669",
            "acc8291adc454578b813b0a6079c12f4",
            "72c97a4f9a7f464482e4ba9844e6edab",
            "ff43be0e85b04584a5c8134bcc4169e3",
            "23f43c397966455b84fd0837e90a1556",
            "b318ee71d6b44c79bb91a7471018d2a2",
            "6861593e709845818883f44e1ed227af",
            "a67d1aa30e2d445a926f3806b0e65657",
            "ce5937dddade4c349a37f71dcc2a15c5",
            "6f3af09442a34575a59276649158f61c",
            "03d80fa1fb094b8db37d202fe1ce7052"
          ]
        },
        "id": "sUHwRo0o7MVh",
        "outputId": "76bdb097-c859-4405-c781-39cb058bea57"
      },
      "execution_count": 10,
      "outputs": [
        {
          "output_type": "display_data",
          "data": {
            "text/plain": [
              "Steps:   0%|          | 0/130 [00:00<?, ?it/s]"
            ],
            "application/vnd.jupyter.widget-view+json": {
              "version_major": 2,
              "version_minor": 0,
              "model_id": "fe5b03c6559f43fba2ffe8905d7df669"
            }
          },
          "metadata": {}
        }
      ]
    },
    {
      "cell_type": "code",
      "source": [
        "import matplotlib.pyplot as plt\n",
        "plt.plot(losses)"
      ],
      "metadata": {
        "colab": {
          "base_uri": "https://localhost:8080/",
          "height": 282
        },
        "id": "qWo9xJ6L8fxy",
        "outputId": "d39bef26-d43e-4af8-c525-536e55c2062b"
      },
      "execution_count": 11,
      "outputs": [
        {
          "output_type": "execute_result",
          "data": {
            "text/plain": [
              "[<matplotlib.lines.Line2D at 0x7f0bec43e390>]"
            ]
          },
          "metadata": {},
          "execution_count": 11
        },
        {
          "output_type": "display_data",
          "data": {
            "text/plain": [
              "<Figure size 432x288 with 1 Axes>"
            ],
            "image/png": "[encoded data removed]"
          },
          "metadata": {
            "needs_background": "light"
          }
        }
      ]
    },
    {
      "cell_type": "code",
      "source": [
        "#@markdown zip concept for easy download\n",
        "import os\n",
        "import shutil\n",
        "\n",
        "if not os.path.exists(\"concept\"):\n",
        "    os.mkdir(\"concept\")\n",
        "\n",
        "placeholder_token = \"<image>\"\n",
        "\n",
        "learned_embeds_dict = {placeholder_token: model.token_embedding.weight.data[dummy_token].detach().cpu()}\n",
        "torch.save(learned_embeds_dict, \"concept/learned_embeds.bin\")\n",
        "\n",
        "text_file = open(\"concept/token_identifier.txt\", \"w\")\n",
        "text_file.write(placeholder_token)\n",
        "text_file.close()\n",
        "\n",
        "type_file = open(\"concept/type_of_concept.txt\",\"w\")\n",
        "type_file.write(type_of_concept)\n",
        "type_file.close()\n",
        "\n",
        "shutil.make_archive(\"concept\", 'zip', \"concept\")"
      ],
      "metadata": {
        "colab": {
          "base_uri": "https://localhost:8080/",
          "height": 36
        },
        "cellView": "form",
        "id": "d5T5yv9aDBck",
        "outputId": "321a5f61-00ee-438b-e917-a2b622754700"
      },
      "execution_count": 12,
      "outputs": [
        {
          "output_type": "execute_result",
          "data": {
            "text/plain": [
              "'/content/concept.zip'"
            ],
            "application/vnd.google.colaboratory.intrinsic+json": {
              "type": "string"
            }
          },
          "metadata": {},
          "execution_count": 12
        }
      ]
    },
    {
      "cell_type": "code",
      "source": [
        "#@markdown convert to old-style for other webuis, saved as emb.pt <br>\n",
        "#@markdown todo: test if this even works, i dont use other webuis a lot\n",
        "n = {'string_to_token': {\"<image>\": torch.tensor(len(model.token_embedding.weight.data))},\n",
        "     'string_to_param': {\n",
        "         torch.nn.ParameterDict({\n",
        "             \"<image>\": model.token_embedding.weight.data[dummy_token].detach().cpu().unsqueeze(0)\n",
        "         })\n",
        "     }}\n",
        "torch.save(n, \"image.pt\")"
      ],
      "metadata": {
        "cellView": "form",
        "id": "KW0lRsYKIisL"
      },
      "execution_count": 13,
      "outputs": []
    },
    {
      "cell_type": "markdown",
      "source": [
        "### how to use this concept\n",
        "\n",
        "---\n",
        "\n",
        "create a model-type repository on [huggingface](https://huggingface.co/).\n",
        "\n",
        "put it's name along with your huggingface token (https://huggingface.co/settings/tokens) in the next cell, run it.\n",
        "\n",
        "Now you can use this concept with my notebook, [doohickey](https://colab.research.google.com/github/aicrumb/doohickey/blob/main/Doohickey_Diffusion.ipynb) to generate images like the one you inverted here.\n",
        "\n",
        "Under `Model Customizations` there's a cell that says `load textual-inversion concepts from 🤗 hub`. After the first item, add a comma and put your username and name of the repository you created in quotes. It should look something like\n",
        "```\n",
        "[\"sd-concepts-library/cat-toy\", \"username/my-concept\"]\n",
        "```\n",
        "\n",
        "After that's done, you can use the concept to generate images. Under `Main Parameters` inside the prompt section, write whatever prompt you want and treat `<image>` as if it were a word describing your image."
      ],
      "metadata": {
        "id": "cG82RWf6FVH8"
      }
    },
    {
      "cell_type": "code",
      "source": [
        "from huggingface_hub import HfApi\n",
        "repo_id = \"myUsername/myConcept\" #@param {type:\"string\"}\n",
        "hf_token = \"hf_example\" #@param {type:\"string\"}\n",
        "api = HfApi()\n",
        "api.upload_folder(\n",
        "    folder_path=\"concept\",\n",
        "    path_in_repo=\"\",\n",
        "    repo_id=repo_id,\n",
        "    repo_type=\"model\",\n",
        "    ignore_patterns=\"\",\n",
        "    token = hf_token\n",
        ")"
      ],
      "metadata": {
        "colab": {
          "base_uri": "https://localhost:8080/",
          "height": 36
        },
        "cellView": "form",
        "id": "7Tw7i2sZh6Js",
        "outputId": "fb8ec7ac-cb0a-4b6d-f864-5fa84075d0cf"
      },
      "execution_count": 15,
      "outputs": [
        {
          "output_type": "execute_result",
          "data": {
            "text/plain": [
              "'https://huggingface.co/crumb/test-concept/tree/main/'"
            ],
            "application/vnd.google.colaboratory.intrinsic+json": {
              "type": "string"
            }
          },
          "metadata": {},
          "execution_count": 15
        }
      ]
    }
  ]
}